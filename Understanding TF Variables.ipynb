{
 "cells": [
  {
   "cell_type": "code",
   "execution_count": 1,
   "metadata": {},
   "outputs": [
    {
     "name": "stderr",
     "output_type": "stream",
     "text": [
      "/home/dragonx/venv3/lib/python3.5/site-packages/h5py/__init__.py:36: FutureWarning: Conversion of the second argument of issubdtype from `float` to `np.floating` is deprecated. In future, it will be treated as `np.float64 == np.dtype(float).type`.\n",
      "  from ._conv import register_converters as _register_converters\n"
     ]
    },
    {
     "name": "stdout",
     "output_type": "stream",
     "text": [
      "Model0/Add1/c\n",
      "Add1/a\n"
     ]
    }
   ],
   "source": [
    "import tensorflow as tf\n",
    "with tf.name_scope('Model0') as scope:\n",
    "    with tf.variable_scope(\"Add1\"):\n",
    "        a = tf.get_variable('a', [1], dtype=tf.int32, initializer=tf.zeros_initializer)\n",
    "        c = tf.constant(20, dtype=tf.int32, name=\"c\")\n",
    "        print(c.op.name)\n",
    "        print(a.op.name)"
   ]
  },
  {
   "cell_type": "code",
   "execution_count": 2,
   "metadata": {},
   "outputs": [],
   "source": [
    "b = a+c"
   ]
  },
  {
   "cell_type": "code",
   "execution_count": 3,
   "metadata": {},
   "outputs": [
    {
     "name": "stdout",
     "output_type": "stream",
     "text": [
      "add\n"
     ]
    }
   ],
   "source": [
    "print(b.op.name)"
   ]
  },
  {
   "cell_type": "code",
   "execution_count": 4,
   "metadata": {},
   "outputs": [
    {
     "name": "stdout",
     "output_type": "stream",
     "text": [
      "add_1\n"
     ]
    }
   ],
   "source": [
    "d = b+a\n",
    "print(d.op.name)"
   ]
  },
  {
   "cell_type": "code",
   "execution_count": 5,
   "metadata": {},
   "outputs": [
    {
     "name": "stdout",
     "output_type": "stream",
     "text": [
      "[<tf.Operation 'Add1/a/Initializer/zeros' type=Const>, <tf.Operation 'Add1/a' type=VariableV2>, <tf.Operation 'Add1/a/Assign' type=Assign>, <tf.Operation 'Add1/a/read' type=Identity>, <tf.Operation 'Model0/Add1/c' type=Const>, <tf.Operation 'add' type=Add>, <tf.Operation 'add_1' type=Add>]\n",
      "<bound method Graph.get_all_collection_keys of <tensorflow.python.framework.ops.Graph object at 0x7f325af02358>>\n"
     ]
    }
   ],
   "source": [
    "g = tf.get_default_graph()\n",
    "print(g.get_operations())\n",
    "print(g.get_all_collection_keys)"
   ]
  },
  {
   "cell_type": "code",
   "execution_count": 6,
   "metadata": {},
   "outputs": [
    {
     "name": "stdout",
     "output_type": "stream",
     "text": [
      "[]\n"
     ]
    }
   ],
   "source": [
    "tf.reset_default_graph()\n",
    "g = tf.get_default_graph()\n",
    "print(g.get_operations())"
   ]
  },
  {
   "cell_type": "code",
   "execution_count": 7,
   "metadata": {},
   "outputs": [
    {
     "name": "stdout",
     "output_type": "stream",
     "text": [
      "feature_fusion/a Model1/feature_fusion/b add\n"
     ]
    }
   ],
   "source": [
    "# build model \n",
    "with tf.name_scope('Model1') as scope:\n",
    "    with tf.variable_scope('feature_fusion'):\n",
    "        a = tf.get_variable('a', shape=[1], dtype=tf.float32, initializer=tf.ones_initializer)\n",
    "        b = tf.constant(20.0, dtype=tf.float32, name='b')\n",
    "c = a + b\n",
    "print(a.op.name, b.op.name, c.op.name)\n",
    "\n",
    "\n",
    "\n",
    "\n"
   ]
  },
  {
   "cell_type": "code",
   "execution_count": 21,
   "metadata": {},
   "outputs": [
    {
     "name": "stdout",
     "output_type": "stream",
     "text": [
      "[21.]\n",
      "Model saved in path: ./model.ckpt\n"
     ]
    }
   ],
   "source": [
    "# ops to save and restore model\n",
    "saver = tf.train.Saver()\n",
    "# ops to initialize the variables\n",
    "init_op = tf.global_variables_initializer()\n",
    "with tf.Session() as sess:\n",
    "    sess.run(init_op)\n",
    "    value = sess.run(c)\n",
    "    print(value)\n",
    "    save_path = saver.save(sess, './model.ckpt')\n",
    "    print(\"Model saved in path: %s\" %save_path)"
   ]
  },
  {
   "cell_type": "code",
   "execution_count": 23,
   "metadata": {},
   "outputs": [
    {
     "data": {
      "text/plain": [
       "<tensorflow.python.training.saver.Saver at 0x7f31d07e7748>"
      ]
     },
     "execution_count": 23,
     "metadata": {},
     "output_type": "execute_result"
    }
   ],
   "source": [
    "saver"
   ]
  },
  {
   "cell_type": "code",
   "execution_count": 49,
   "metadata": {},
   "outputs": [
    {
     "name": "stdout",
     "output_type": "stream",
     "text": [
      "Step1/feature_fusion/a\n",
      "feature_fusion/a\n",
      "INFO:tensorflow:Restoring parameters from ./model.ckpt\n",
      "a: [1.]\n"
     ]
    }
   ],
   "source": [
    "# restore a model \n",
    "tf.reset_default_graph()\n",
    "with tf.name_scope('Model2') as scope:\n",
    "    with tf.variable_scope('Step1'):\n",
    "        with tf.variable_scope('feature_fusion'):\n",
    "            a = tf.get_variable('a', shape=[1])\n",
    "            print(a.op.name)\n",
    "    with tf.variable_scope('feature_fusion'):\n",
    "        a_1 = tf.get_variable('a', shape=[1])\n",
    "        print(a_1.op.name)   \n",
    "# here we must rebuild saver ops\n",
    "# but we would like to restore variables by \n",
    "saver = tf.train.Saver({a_1.op.name:a_1})\n",
    "with tf.Session() as sess:\n",
    "    # restore\n",
    "    saver.restore(sess, './model.ckpt')\n",
    "    print(\"a: %s\" % a_1.eval())\n"
   ]
  },
  {
   "cell_type": "code",
   "execution_count": 50,
   "metadata": {},
   "outputs": [
    {
     "name": "stdout",
     "output_type": "stream",
     "text": [
      "Step1/feature_fusion/a\n",
      "INFO:tensorflow:Restoring parameters from ./model.ckpt\n",
      "a: [1.]\n",
      "Step1/feature_fusion/a\n"
     ]
    }
   ],
   "source": [
    "# restore a model \n",
    "tf.reset_default_graph()\n",
    "with tf.name_scope('Model2') as scope:\n",
    "    with tf.variable_scope('Step1'):\n",
    "        with tf.variable_scope('feature_fusion'):\n",
    "            a = tf.get_variable('a', shape=[1])\n",
    "            print(a.op.name)\n",
    "# here we must rebuild saver ops\n",
    "# but we would like to restore variables by \n",
    "saver = tf.train.Saver({'feature_fusion/a':a})\n",
    "with tf.Session() as sess:\n",
    "    # restore\n",
    "    saver.restore(sess, './model.ckpt')\n",
    "    print(\"a: %s\" % a.eval())\n",
    "    print(a.op.name)\n"
   ]
  },
  {
   "cell_type": "code",
   "execution_count": 83,
   "metadata": {},
   "outputs": [
    {
     "name": "stdout",
     "output_type": "stream",
     "text": [
      "Step1/feature_fusion/a\n",
      "Step1/feature_fusion/a\n",
      "[('feature_fusion/a', [1])]\n",
      "INFO:tensorflow:Restoring parameters from ./model.ckpt\n",
      "a: [1.]\n",
      "a: [1.]\n",
      "Step1/feature_fusion/a\n"
     ]
    }
   ],
   "source": [
    "# restore a model \n",
    "tf.reset_default_graph()\n",
    "with tf.name_scope('Model2'):\n",
    "    with tf.variable_scope('Step1'):\n",
    "        with tf.variable_scope('feature_fusion') as scope:\n",
    "            a = tf.get_variable('a', shape=[1])\n",
    "            scope.reuse_variables()\n",
    "            a_1 = tf.get_variable('a', shape=[1])\n",
    "            print(a.op.name)\n",
    "            print(a_1.op.name)\n",
    "# here we must rebuild saver ops\n",
    "# but we would like to restore variables by \n",
    "vars = tf.contrib.framework.list_variables('.')\n",
    "print(vars)\n",
    "# new_vars = []\n",
    "# for name, shape in vars:\n",
    "#     v = tf.contrib.framework.load_variable('.', name)\n",
    "#     new_vars.append(tf.Variable(v, name=name.replace('Step1/', '')))\n",
    "saver = tf.train.Saver({v.op.name.replace('Step1/', ''): v for v in tf.get_collection(tf.GraphKeys.GLOBAL_VARIABLES)})\n",
    "# init_op = tf.global_variables_initializer()\n",
    "with tf.Session() as sess:\n",
    "    # sess.run(init_op)\n",
    "    # restore\n",
    "    saver.restore(sess, './model.ckpt')\n",
    "    print(\"a: %s\" % a.eval())\n",
    "    print(\"a: %s\" % a_1.eval())\n",
    "    print(a.op.name)"
   ]
  },
  {
   "cell_type": "code",
   "execution_count": 100,
   "metadata": {},
   "outputs": [
    {
     "name": "stdout",
     "output_type": "stream",
     "text": [
      "Step1/feature_fusion/a\n",
      "Step1/feature_fusion/a\n",
      "[<tf.Variable 'Step1/feature_fusion/a:0' shape=(1,) dtype=float32_ref>]\n",
      "[<tf.Variable 'Step1/feature_fusion/a:0' shape=(1,) dtype=float32_ref>]\n",
      "feature_fusion/a\n",
      "INFO:tensorflow:Restoring parameters from ./model.ckpt\n",
      "a: [1.]\n",
      "a: [1.]\n"
     ]
    }
   ],
   "source": [
    "# restore a model \n",
    "import tensorflow.contrib.slim as slim\n",
    "tf.reset_default_graph()\n",
    "with tf.name_scope('Model2'):\n",
    "    with tf.variable_scope('Step1'):\n",
    "        with tf.variable_scope('feature_fusion') as scope:\n",
    "            a = tf.get_variable('a', shape=[1])\n",
    "            scope.reuse_variables()\n",
    "            a_1 = tf.get_variable('a', shape=[1])\n",
    "            print(a.op.name)\n",
    "            print(a_1.op.name)\n",
    "# here we must rebuild saver ops\n",
    "# but we would like to restore variables by \n",
    "vars = tf.contrib.framework.list_variables('.')\n",
    "print(tf.get_collection(tf.GraphKeys.GLOBAL_VARIABLES))\n",
    "print(slim.get_trainable_variables())\n",
    "for v in tf.get_collection(tf.GraphKeys.GLOBAL_VARIABLES):\n",
    "    print(v.op.name[len(v.op.name.split('/')[0])+1:])\n",
    "# new_vars = []\n",
    "# for name, shape in vars:\n",
    "#     v = tf.contrib.framework.load_variable('.', name)\n",
    "#     new_vars.append(tf.Variable(v, name=name.replace('Step1/', '')))\n",
    "saver = tf.train.Saver({v.op.name[len(v.op.name.split('/')[0])+1:]: v for v in tf.get_collection(tf.GraphKeys.GLOBAL_VARIABLES)})\n",
    "# init_op = tf.global_variables_initializer()\n",
    "with tf.Session() as sess:\n",
    "    # sess.run(init_op)\n",
    "    # restore\n",
    "    saver.restore(sess, './model.ckpt')\n",
    "    print(\"a: %s\" % a.eval())\n",
    "    print(\"a: %s\" % a_1.eval())\n",
    "#     print(a.op.name)"
   ]
  },
  {
   "cell_type": "code",
   "execution_count": 70,
   "metadata": {},
   "outputs": [
    {
     "name": "stdout",
     "output_type": "stream",
     "text": [
      "tensor_name:  feature_fusion/a\n",
      "[1.]\n",
      "[('feature_fusion/a', [1])]\n",
      "[<tf.Variable 'Step1/feature_fusion/a_2:0' shape=(1,) dtype=float32_ref>]\n"
     ]
    }
   ],
   "source": [
    "# here we have two ways to solve this problem\n",
    "# first let's do an inspection over the variables\n",
    "from tensorflow.python.tools import inspect_checkpoint as chkp\n",
    "# print all tensors in checkpoint file\n",
    "chkp.print_tensors_in_checkpoint_file(\"./model.ckpt\", tensor_name='', all_tensors=True)\n",
    "vars = tf.contrib.framework.list_variables('.')\n",
    "print(vars)\n",
    "new_vars = []\n",
    "for name, shape in vars:\n",
    "    v = tf.contrib.framework.load_variable('.', name)\n",
    "    new_vars.append(tf.Variable(v, name='Step1/' + name))\n",
    "print(new_vars)"
   ]
  },
  {
   "cell_type": "code",
   "execution_count": 39,
   "metadata": {},
   "outputs": [
    {
     "name": "stdout",
     "output_type": "stream",
     "text": [
      "[]\n",
      "[<tf.Variable 'feature_fusion/a:0' shape=(1,) dtype=float32_ref>]\n",
      "[<tf.Variable 'feature_fusion/a:0' shape=(1,) dtype=float32_ref>]\n"
     ]
    }
   ],
   "source": [
    "print(tf.model_variables())\n",
    "print(tf.get_collection(tf.GraphKeys.GLOBAL_VARIABLES))\n",
    "print(tf.trainable_variables())"
   ]
  },
  {
   "cell_type": "code",
   "execution_count": null,
   "metadata": {},
   "outputs": [],
   "source": []
  }
 ],
 "metadata": {
  "kernelspec": {
   "display_name": "Python 3",
   "language": "python",
   "name": "python3"
  },
  "language_info": {
   "codemirror_mode": {
    "name": "ipython",
    "version": 3
   },
   "file_extension": ".py",
   "mimetype": "text/x-python",
   "name": "python",
   "nbconvert_exporter": "python",
   "pygments_lexer": "ipython3",
   "version": "3.5.2"
  }
 },
 "nbformat": 4,
 "nbformat_minor": 2
}
