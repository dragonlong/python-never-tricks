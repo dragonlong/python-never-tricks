{
 "cells": [
  {
   "cell_type": "code",
   "execution_count": 1,
   "metadata": {},
   "outputs": [],
   "source": [
    "import tensorflow as tf\n",
    "import numpy as np\n",
    "a = tf.constant(np.arange(1, 13, dtype=np.int32),\n",
    "                shape=[1, 2, 2, 3])\n"
   ]
  },
  {
   "cell_type": "code",
   "execution_count": null,
   "metadata": {},
   "outputs": [],
   "source": [
    "b = tf.constant(np.arange(19, 25, dtype=np.int32),\n",
    "                shape=[1, 1, 3, 2])"
   ]
  },
  {
   "cell_type": "code",
   "execution_count": null,
   "metadata": {},
   "outputs": [],
   "source": [
    "c = tf.matmul(a, b)\n",
    "print(c.shape)"
   ]
  },
  {
   "cell_type": "code",
   "execution_count": 2,
   "metadata": {},
   "outputs": [],
   "source": [
    "flags = tf.flags\n",
    "# The only part you need to modify during training\n",
    "flags.DEFINE_string(\"system\", \"ubuntu\", \"branch to choose \")\n",
    "flags.DEFINE_string(\"model\", \"test\", \"A type of model. Possible options are: small, medium, large.\")\n"
   ]
  },
  {
   "cell_type": "code",
   "execution_count": 3,
   "metadata": {},
   "outputs": [],
   "source": [
    "FLAGS = flags.FLAGS"
   ]
  },
  {
   "cell_type": "code",
   "execution_count": 7,
   "metadata": {},
   "outputs": [],
   "source": [
    "FLAGS.system = 'centos'"
   ]
  },
  {
   "cell_type": "code",
   "execution_count": 8,
   "metadata": {},
   "outputs": [
    {
     "data": {
      "text/plain": [
       "'centos'"
      ]
     },
     "execution_count": 8,
     "metadata": {},
     "output_type": "execute_result"
    }
   ],
   "source": [
    "FLAGS.system"
   ]
  },
  {
   "cell_type": "code",
   "execution_count": 11,
   "metadata": {},
   "outputs": [
    {
     "name": "stdout",
     "output_type": "stream",
     "text": [
      "Python version: ['3.5.2 (default, Nov 23 2017, 16:37:01) ', '[GCC 5.4.0 20160609]']\n",
      "dist: ('Ubuntu', '16.04', 'xenial')\n",
      "linux_distribution: ('Ubuntu', '16.04', 'xenial')\n",
      "system: Linux\n",
      "machine: x86_64\n",
      "platform: Linux-4.13.0-37-generic-x86_64-with-Ubuntu-16.04-xenial\n",
      "uname: uname_result(system='Linux', node='dragonx-H97N-WIFI', release='4.13.0-37-generic', version='#42~16.04.1-Ubuntu SMP Wed Mar 7 16:03:28 UTC 2018', machine='x86_64', processor='x86_64')\n",
      "version: #42~16.04.1-Ubuntu SMP Wed Mar 7 16:03:28 UTC 2018\n",
      "mac_ver: ('', ('', '', ''), '')\n",
      "\n"
     ]
    }
   ],
   "source": [
    "import platform\n",
    "import sys\n",
    "\n",
    "def linux_distribution():\n",
    "  try:\n",
    "    return platform.linux_distribution()\n",
    "  except:\n",
    "    return \"N/A\"\n",
    "\n",
    "print(\"\"\"Python version: %s\n",
    "dist: %s\n",
    "linux_distribution: %s\n",
    "system: %s\n",
    "machine: %s\n",
    "platform: %s\n",
    "uname: %s\n",
    "version: %s\n",
    "mac_ver: %s\n",
    "\"\"\" % (\n",
    "sys.version.split('\\n'),\n",
    "str(platform.dist()),\n",
    "linux_distribution(),\n",
    "platform.system(),\n",
    "platform.machine(),\n",
    "platform.platform(),\n",
    "platform.uname(),\n",
    "platform.version(),\n",
    "platform.mac_ver(),\n",
    "))"
   ]
  },
  {
   "cell_type": "code",
   "execution_count": 13,
   "metadata": {},
   "outputs": [],
   "source": [
    "g_1 = tf.Graph()\n",
    "with g_1.as_default():\n",
    "  # Operations created in this scope will be added to `g_1`.\n",
    "  c = tf.constant(\"Node in g_1\")\n",
    "\n",
    "  # Sessions created in this scope will run operations from `g_1`.\n",
    "  sess_1 = tf.Session()\n",
    "\n",
    "tf.reset_default_graph()\n",
    "g_2 = tf.Graph()\n",
    "with g_2.as_default():\n",
    "  # Operations created in this scope will be added to `g_2`.\n",
    "  d = tf.constant(\"Node in g_2\")\n",
    "\n",
    "# Alternatively, you can pass a graph when constructing a <a href=\"./../api_docs/python/tf/Session\"><code>tf.Session</code></a>:\n",
    "# `sess_2` will run operations from `g_2`.\n",
    "sess_2 = tf.Session(graph=g_2)\n",
    "\n",
    "assert c.graph is g_1\n",
    "assert sess_1.graph is g_1\n",
    "\n",
    "assert d.graph is g_2\n",
    "assert sess_2.graph is g_2"
   ]
  },
  {
   "cell_type": "code",
   "execution_count": 16,
   "metadata": {},
   "outputs": [
    {
     "name": "stdout",
     "output_type": "stream",
     "text": [
      "[]\n",
      "[<tf.Operation 'Const' type=Const>]\n",
      "[<tf.Operation 'Const' type=Const>]\n"
     ]
    }
   ],
   "source": [
    "# Print all of the operations in the default graph.\n",
    "g = tf.get_default_graph()\n",
    "print(g.get_operations())\n",
    "print(g_1.get_operations())\n",
    "print(g_2.get_operations())"
   ]
  },
  {
   "cell_type": "code",
   "execution_count": null,
   "metadata": {},
   "outputs": [],
   "source": []
  }
 ],
 "metadata": {
  "kernelspec": {
   "display_name": "Python 3",
   "language": "python",
   "name": "python3"
  },
  "language_info": {
   "codemirror_mode": {
    "name": "ipython",
    "version": 3
   },
   "file_extension": ".py",
   "mimetype": "text/x-python",
   "name": "python",
   "nbconvert_exporter": "python",
   "pygments_lexer": "ipython3",
   "version": "3.5.2"
  }
 },
 "nbformat": 4,
 "nbformat_minor": 2
}
